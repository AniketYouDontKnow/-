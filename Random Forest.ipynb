{
 "cells": [
  {
   "cell_type": "markdown",
   "metadata": {},
   "source": [
    "\n",
    "<h1 align=\"center\">Used Car Price Prediction</h1> \n",
    "\n",
    "<h3 align=\"center\">Random Forest Regressor</h3> \n",
    "\n",
    "---------------------------------------------------------------------------------------------------------------------------"
   ]
  },
  {
   "cell_type": "markdown",
   "metadata": {
    "id": "s5XecB23zNcR"
   },
   "source": [
    "Importing relevent library"
   ]
  },
  {
   "cell_type": "code",
   "execution_count": 1,
   "metadata": {
    "id": "5wdsHfEer3Ge"
   },
   "outputs": [],
   "source": [
    "import pandas as pd\n",
    "import numpy as np\n",
    "import statsmodels.api as sm\n",
    "import matplotlib.pyplot as plt\n",
    "import seaborn as sns\n",
    "import warnings\n",
    "warnings.filterwarnings('ignore')\n",
    "\n",
    "sns.set() # all plot will cover on seaborn style"
   ]
  },
  {
   "cell_type": "code",
   "execution_count": 5,
   "metadata": {
    "colab": {
     "base_uri": "https://localhost:8080/",
     "height": 203
    },
    "id": "bXbKRmOhtgkg",
    "outputId": "6cb178de-a538-43ba-df5b-21ee1855ee62"
   },
   "outputs": [
    {
     "data": {
      "text/html": [
       "<div>\n",
       "<style scoped>\n",
       "    .dataframe tbody tr th:only-of-type {\n",
       "        vertical-align: middle;\n",
       "    }\n",
       "\n",
       "    .dataframe tbody tr th {\n",
       "        vertical-align: top;\n",
       "    }\n",
       "\n",
       "    .dataframe thead th {\n",
       "        text-align: right;\n",
       "    }\n",
       "</style>\n",
       "<table border=\"1\" class=\"dataframe\">\n",
       "  <thead>\n",
       "    <tr style=\"text-align: right;\">\n",
       "      <th></th>\n",
       "      <th>Brand</th>\n",
       "      <th>Price</th>\n",
       "      <th>Body</th>\n",
       "      <th>Mileage</th>\n",
       "      <th>EngineV</th>\n",
       "      <th>Engine Type</th>\n",
       "      <th>Registration</th>\n",
       "      <th>Year</th>\n",
       "      <th>Model</th>\n",
       "    </tr>\n",
       "  </thead>\n",
       "  <tbody>\n",
       "    <tr>\n",
       "      <th>0</th>\n",
       "      <td>BMW</td>\n",
       "      <td>4200.0</td>\n",
       "      <td>sedan</td>\n",
       "      <td>277</td>\n",
       "      <td>2.0</td>\n",
       "      <td>Petrol</td>\n",
       "      <td>yes</td>\n",
       "      <td>1991</td>\n",
       "      <td>320</td>\n",
       "    </tr>\n",
       "    <tr>\n",
       "      <th>1</th>\n",
       "      <td>Mercedes-Benz</td>\n",
       "      <td>7900.0</td>\n",
       "      <td>van</td>\n",
       "      <td>427</td>\n",
       "      <td>2.9</td>\n",
       "      <td>Diesel</td>\n",
       "      <td>yes</td>\n",
       "      <td>1999</td>\n",
       "      <td>Sprinter 212</td>\n",
       "    </tr>\n",
       "    <tr>\n",
       "      <th>2</th>\n",
       "      <td>Mercedes-Benz</td>\n",
       "      <td>13300.0</td>\n",
       "      <td>sedan</td>\n",
       "      <td>358</td>\n",
       "      <td>5.0</td>\n",
       "      <td>Gas</td>\n",
       "      <td>yes</td>\n",
       "      <td>2003</td>\n",
       "      <td>S 500</td>\n",
       "    </tr>\n",
       "    <tr>\n",
       "      <th>3</th>\n",
       "      <td>Audi</td>\n",
       "      <td>23000.0</td>\n",
       "      <td>crossover</td>\n",
       "      <td>240</td>\n",
       "      <td>4.2</td>\n",
       "      <td>Petrol</td>\n",
       "      <td>yes</td>\n",
       "      <td>2007</td>\n",
       "      <td>Q7</td>\n",
       "    </tr>\n",
       "    <tr>\n",
       "      <th>4</th>\n",
       "      <td>Toyota</td>\n",
       "      <td>18300.0</td>\n",
       "      <td>crossover</td>\n",
       "      <td>120</td>\n",
       "      <td>2.0</td>\n",
       "      <td>Petrol</td>\n",
       "      <td>yes</td>\n",
       "      <td>2011</td>\n",
       "      <td>Rav 4</td>\n",
       "    </tr>\n",
       "  </tbody>\n",
       "</table>\n",
       "</div>"
      ],
      "text/plain": [
       "           Brand    Price       Body  Mileage  EngineV Engine Type  \\\n",
       "0            BMW   4200.0      sedan      277      2.0      Petrol   \n",
       "1  Mercedes-Benz   7900.0        van      427      2.9      Diesel   \n",
       "2  Mercedes-Benz  13300.0      sedan      358      5.0         Gas   \n",
       "3           Audi  23000.0  crossover      240      4.2      Petrol   \n",
       "4         Toyota  18300.0  crossover      120      2.0      Petrol   \n",
       "\n",
       "  Registration  Year         Model  \n",
       "0          yes  1991           320  \n",
       "1          yes  1999  Sprinter 212  \n",
       "2          yes  2003         S 500  \n",
       "3          yes  2007            Q7  \n",
       "4          yes  2011         Rav 4  "
      ]
     },
     "execution_count": 5,
     "metadata": {},
     "output_type": "execute_result"
    }
   ],
   "source": [
    "# Loding the data.\n",
    "car = pd.read_csv('Car_cleaned_with_Model.csv')\n",
    "car.head()"
   ]
  },
  {
   "cell_type": "markdown",
   "metadata": {
    "id": "ohPUBBZMzZmo"
   },
   "source": [
    "Now I will create dictionary for every categoriacl column for gtting their dummy number for there categorcal label. It will be used in later stage in time of web app creation "
   ]
  },
  {
   "cell_type": "code",
   "execution_count": 6,
   "metadata": {
    "id": "A2SPIZ01z7TR"
   },
   "outputs": [],
   "source": [
    "# creating dictionary for every categoricla column\n",
    "brand_dic = dict()\n",
    "body_dic = dict()\n",
    "engine_type_dic = dict()\n",
    "registration_dic = dict()\n",
    "model_dic =dict()"
   ]
  },
  {
   "cell_type": "code",
   "execution_count": 7,
   "metadata": {
    "colab": {
     "base_uri": "https://localhost:8080/",
     "height": 287
    },
    "id": "-SNftrZ9tj8Y",
    "outputId": "44d10c9c-9378-4feb-9182-1ee53f39a9eb"
   },
   "outputs": [
    {
     "name": "stdout",
     "output_type": "stream",
     "text": [
      "Brand Label saved\n",
      "Body label saved\n",
      "Engine type label saved\n",
      "Registration label saved\n",
      "Model label saved\n"
     ]
    },
    {
     "data": {
      "text/html": [
       "<div>\n",
       "<style scoped>\n",
       "    .dataframe tbody tr th:only-of-type {\n",
       "        vertical-align: middle;\n",
       "    }\n",
       "\n",
       "    .dataframe tbody tr th {\n",
       "        vertical-align: top;\n",
       "    }\n",
       "\n",
       "    .dataframe thead th {\n",
       "        text-align: right;\n",
       "    }\n",
       "</style>\n",
       "<table border=\"1\" class=\"dataframe\">\n",
       "  <thead>\n",
       "    <tr style=\"text-align: right;\">\n",
       "      <th></th>\n",
       "      <th>Price</th>\n",
       "      <th>Mileage</th>\n",
       "      <th>EngineV</th>\n",
       "      <th>Year</th>\n",
       "      <th>brand_enc</th>\n",
       "      <th>body_enc</th>\n",
       "      <th>engine_type_enc</th>\n",
       "      <th>regis_enc</th>\n",
       "      <th>model_enc</th>\n",
       "    </tr>\n",
       "  </thead>\n",
       "  <tbody>\n",
       "    <tr>\n",
       "      <th>0</th>\n",
       "      <td>4200.0</td>\n",
       "      <td>277</td>\n",
       "      <td>2.0</td>\n",
       "      <td>1991</td>\n",
       "      <td>1</td>\n",
       "      <td>3</td>\n",
       "      <td>3</td>\n",
       "      <td>1</td>\n",
       "      <td>17</td>\n",
       "    </tr>\n",
       "    <tr>\n",
       "      <th>1</th>\n",
       "      <td>7900.0</td>\n",
       "      <td>427</td>\n",
       "      <td>2.9</td>\n",
       "      <td>1999</td>\n",
       "      <td>2</td>\n",
       "      <td>5</td>\n",
       "      <td>0</td>\n",
       "      <td>1</td>\n",
       "      <td>248</td>\n",
       "    </tr>\n",
       "    <tr>\n",
       "      <th>2</th>\n",
       "      <td>13300.0</td>\n",
       "      <td>358</td>\n",
       "      <td>5.0</td>\n",
       "      <td>2003</td>\n",
       "      <td>2</td>\n",
       "      <td>3</td>\n",
       "      <td>1</td>\n",
       "      <td>1</td>\n",
       "      <td>222</td>\n",
       "    </tr>\n",
       "    <tr>\n",
       "      <th>3</th>\n",
       "      <td>23000.0</td>\n",
       "      <td>240</td>\n",
       "      <td>4.2</td>\n",
       "      <td>2007</td>\n",
       "      <td>0</td>\n",
       "      <td>0</td>\n",
       "      <td>3</td>\n",
       "      <td>1</td>\n",
       "      <td>211</td>\n",
       "    </tr>\n",
       "    <tr>\n",
       "      <th>4</th>\n",
       "      <td>18300.0</td>\n",
       "      <td>120</td>\n",
       "      <td>2.0</td>\n",
       "      <td>2011</td>\n",
       "      <td>5</td>\n",
       "      <td>0</td>\n",
       "      <td>3</td>\n",
       "      <td>1</td>\n",
       "      <td>214</td>\n",
       "    </tr>\n",
       "  </tbody>\n",
       "</table>\n",
       "</div>"
      ],
      "text/plain": [
       "     Price  Mileage  EngineV  Year  brand_enc  body_enc  engine_type_enc  \\\n",
       "0   4200.0      277      2.0  1991          1         3                3   \n",
       "1   7900.0      427      2.9  1999          2         5                0   \n",
       "2  13300.0      358      5.0  2003          2         3                1   \n",
       "3  23000.0      240      4.2  2007          0         0                3   \n",
       "4  18300.0      120      2.0  2011          5         0                3   \n",
       "\n",
       "   regis_enc  model_enc  \n",
       "0          1         17  \n",
       "1          1        248  \n",
       "2          1        222  \n",
       "3          1        211  \n",
       "4          1        214  "
      ]
     },
     "execution_count": 7,
     "metadata": {},
     "output_type": "execute_result"
    }
   ],
   "source": [
    "# Creating encoding column for categorical columns only\n",
    "from sklearn.preprocessing import LabelEncoder\n",
    "# creating an instance of the labelEncoder\n",
    "le = LabelEncoder()\n",
    "\n",
    "\n",
    "# Brand column\n",
    "car['brand_enc'] = le.fit_transform(car['Brand'])\n",
    "for num, lbl in enumerate(le.classes_):\n",
    "  brand_dic[lbl] = num\n",
    "print('Brand Label saved')\n",
    "\n",
    "# Body column\n",
    "car['body_enc'] = le.fit_transform(car['Body'])\n",
    "for num, lbl in enumerate(le.classes_):\n",
    "  body_dic[lbl] = num\n",
    "print('Body label saved')\n",
    "\n",
    "\n",
    "# Engine type\n",
    "car['engine_type_enc'] = le.fit_transform(car['Engine Type'])\n",
    "for num, lbl in enumerate(le.classes_):\n",
    "  engine_type_dic[lbl]=num\n",
    "print('Engine type label saved')\n",
    "\n",
    "# Registration column\n",
    "car['regis_enc'] = le.fit_transform(car['Registration'])\n",
    "for num, lbl in enumerate(le.classes_):\n",
    "  registration_dic[lbl]=num\n",
    "print('Registration label saved')\n",
    "\n",
    "# Model\n",
    "car['model_enc'] = le.fit_transform(car['Model'])\n",
    "for num, lbl in enumerate(le.classes_):\n",
    "  model_dic[lbl]=num\n",
    "print('Model label saved')\n",
    "\n",
    "# droping the old categorical column\n",
    "car_2 = car.drop(['Brand', 'Body', 'Engine Type', 'Registration', 'Model'], axis=1)\n",
    "\n",
    "car_2.head()"
   ]
  },
  {
   "cell_type": "markdown",
   "metadata": {
    "id": "pRdEex5L2jHW"
   },
   "source": [
    "### Now as It known theat tree based model are very powerfull and also the ensemble approch `RandomForest` is very powerfull and mostely used machine learning algorithms. the main advantage it is not required longer data preprocessing. and aldo gives better result."
   ]
  },
  {
   "cell_type": "code",
   "execution_count": 8,
   "metadata": {
    "colab": {
     "base_uri": "https://localhost:8080/"
    },
    "id": "78oeaURYto94",
    "outputId": "2e6af43a-05e1-47a2-bf9b-00049cc3e832"
   },
   "outputs": [
    {
     "data": {
      "text/plain": [
       "((3867, 8), (3867,))"
      ]
     },
     "execution_count": 8,
     "metadata": {},
     "output_type": "execute_result"
    }
   ],
   "source": [
    "# takking X and y\n",
    "X = car_2.drop('Price', axis=1)\n",
    "y = car_2['Price']\n",
    "\n",
    "X.shape, y.shape"
   ]
  },
  {
   "cell_type": "code",
   "execution_count": 9,
   "metadata": {
    "colab": {
     "base_uri": "https://localhost:8080/"
    },
    "id": "GIbxFmrtt8qJ",
    "outputId": "4c8190cf-4b82-4a46-ea30-085987ee612b"
   },
   "outputs": [
    {
     "data": {
      "text/plain": [
       "((3093, 8), (3093,), (774, 8), (774,))"
      ]
     },
     "execution_count": 9,
     "metadata": {},
     "output_type": "execute_result"
    }
   ],
   "source": [
    "# train test split\n",
    "from sklearn.model_selection import train_test_split\n",
    "\n",
    "X_train, X_test, y_train, y_test = train_test_split(X, y, test_size=0.2, random_state=32)\n",
    "\n",
    "X_train.shape, y_train.shape, X_test.shape, y_test.shape"
   ]
  },
  {
   "cell_type": "code",
   "execution_count": 10,
   "metadata": {
    "colab": {
     "base_uri": "https://localhost:8080/"
    },
    "id": "WUleMcrKuA7Q",
    "outputId": "f3bc1c96-c5ff-49a6-861d-61cb9cfc17b7"
   },
   "outputs": [
    {
     "data": {
      "text/plain": [
       "{'bootstrap': True,\n",
       " 'ccp_alpha': 0.0,\n",
       " 'criterion': 'mse',\n",
       " 'max_depth': None,\n",
       " 'max_features': 'auto',\n",
       " 'max_leaf_nodes': None,\n",
       " 'max_samples': None,\n",
       " 'min_impurity_decrease': 0.0,\n",
       " 'min_impurity_split': None,\n",
       " 'min_samples_leaf': 1,\n",
       " 'min_samples_split': 2,\n",
       " 'min_weight_fraction_leaf': 0.0,\n",
       " 'n_estimators': 100,\n",
       " 'n_jobs': None,\n",
       " 'oob_score': False,\n",
       " 'random_state': None,\n",
       " 'verbose': 0,\n",
       " 'warm_start': False}"
      ]
     },
     "execution_count": 10,
     "metadata": {},
     "output_type": "execute_result"
    }
   ],
   "source": [
    "# importing RandomForest Regressior\n",
    "from sklearn.ensemble import  RandomForestRegressor\n",
    "\n",
    "# creating instance of randomforest regressor\n",
    "rf_1 = RandomForestRegressor()\n",
    "\n",
    "# checking the hyperparameter of the randomforest \n",
    "rf_1.get_params()"
   ]
  },
  {
   "cell_type": "code",
   "execution_count": 11,
   "metadata": {
    "colab": {
     "base_uri": "https://localhost:8080/"
    },
    "id": "0a_B07RZuCXH",
    "outputId": "e030101a-e97e-430f-f257-762cb61793d6"
   },
   "outputs": [
    {
     "data": {
      "text/plain": [
       "RandomForestRegressor()"
      ]
     },
     "execution_count": 11,
     "metadata": {},
     "output_type": "execute_result"
    }
   ],
   "source": [
    "# first i will create a base model then i will go for hyperparameter tuning.\n",
    "rf_1.fit(X_train, y_train)"
   ]
  },
  {
   "cell_type": "code",
   "execution_count": 12,
   "metadata": {
    "colab": {
     "base_uri": "https://localhost:8080/"
    },
    "id": "3wHnoIsuuD4A",
    "outputId": "ce345d4d-22d9-4368-eef6-e8248955d442"
   },
   "outputs": [
    {
     "name": "stdout",
     "output_type": "stream",
     "text": [
      "RMSE on Traning data 2051.087383710144\n"
     ]
    }
   ],
   "source": [
    "# checking the perofrmance on the training\n",
    "y_pred_train = rf_1.predict(X_train)\n",
    "\n",
    "# importing the rmse from sklearn\n",
    "from sklearn.metrics import  mean_squared_error\n",
    "\n",
    "rmse_train = np.sqrt(mean_squared_error(y_train, y_pred_train))\n",
    "\n",
    "print('RMSE on Traning data {}'.format(rmse_train))\n"
   ]
  },
  {
   "cell_type": "code",
   "execution_count": 13,
   "metadata": {
    "colab": {
     "base_uri": "https://localhost:8080/"
    },
    "id": "QbI4fitluFY3",
    "outputId": "3b09d58d-08d7-4b56-c748-dcc366a26bda"
   },
   "outputs": [
    {
     "name": "stdout",
     "output_type": "stream",
     "text": [
      "RMSE on Testing data 5196.549037534921\n"
     ]
    }
   ],
   "source": [
    "# error on testing data\n",
    "y_pred_test = rf_1.predict(X_test)\n",
    "\n",
    "rmse_test = np.sqrt(mean_squared_error(y_test, y_pred_test))\n",
    "\n",
    "print('RMSE on Testing data {}'.format(rmse_test))"
   ]
  },
  {
   "cell_type": "code",
   "execution_count": 14,
   "metadata": {},
   "outputs": [
    {
     "name": "stdout",
     "output_type": "stream",
     "text": [
      "Traning Score: 0.9881121808552261\n"
     ]
    }
   ],
   "source": [
    "# chceking the socre on traning data.\n",
    "from sklearn.metrics import r2_score\n",
    "\n",
    "y_pred_train = rf_1.predict(X_train)\n",
    "\n",
    "print('Traning Score: {}'.format(r2_score(y_train, y_pred_train)))"
   ]
  },
  {
   "cell_type": "code",
   "execution_count": 15,
   "metadata": {
    "colab": {
     "base_uri": "https://localhost:8080/"
    },
    "id": "JLX0bMZSuH2A",
    "outputId": "1d1edd6e-3c8e-45c7-d8ac-fb2030677235"
   },
   "outputs": [
    {
     "name": "stdout",
     "output_type": "stream",
     "text": [
      "Testing Score: 0.9333359636527947\n"
     ]
    }
   ],
   "source": [
    "# chceking the socre for testing.\n",
    "\n",
    "y_pred_test = rf_1.predict(X_test)\n",
    "print('Testing Score: {}'.format(r2_score(y_test, y_pred_test)))"
   ]
  },
  {
   "cell_type": "code",
   "execution_count": 16,
   "metadata": {
    "colab": {
     "base_uri": "https://localhost:8080/",
     "height": 464
    },
    "id": "UwGhVqlkLzyt",
    "outputId": "b1bf6ed0-d840-41f7-8912-c7e568669760"
   },
   "outputs": [
    {
     "data": {
      "image/png": "[encoded data removed]",
      "text/plain": [
       "<Figure size 1224x504 with 2 Axes>"
      ]
     },
     "metadata": {},
     "output_type": "display_data"
    }
   ],
   "source": [
    "# plotting the traning\n",
    "# check the prediction with the original values\n",
    "plt.figure(figsize=(17,7))\n",
    "y_pred_train = rf_1.predict(X_train)\n",
    "plt.subplot(1,2,1)\n",
    "plt.scatter(y_train, y_pred_train, alpha=0.2);\n",
    "plt.xlabel('Targets (y_train)');\n",
    "plt.ylabel('Predictions (y_pred)');\n",
    "plt.title('Traning Time');\n",
    "\n",
    "# plotting testing error\n",
    "y_pred_test = rf_1.predict(X_test)\n",
    "plt.subplot(1,2,2)\n",
    "plt.scatter(y_test, y_pred_test, alpha=0.2);\n",
    "plt.xlabel('Targets (y_test)');\n",
    "plt.ylabel('Predictions (y_pred_train)');\n",
    "plt.title('Testing Time');\n"
   ]
  },
  {
   "cell_type": "markdown",
   "metadata": {},
   "source": [
    "## Checking the residual for base model."
   ]
  },
  {
   "cell_type": "code",
   "execution_count": 17,
   "metadata": {},
   "outputs": [
    {
     "data": {
      "image/png": "[encoded data removed]",
      "text/plain": [
       "<Figure size 1224x504 with 2 Axes>"
      ]
     },
     "metadata": {},
     "output_type": "display_data"
    }
   ],
   "source": [
    "# plotting the distribution of the residual\n",
    "residual_train = (y_train - rf_1.predict(X_train))\n",
    "residual_test = (y_test - rf_1.predict(X_test))\n",
    "\n",
    "# ploting the distribution of the residual on training\n",
    "plt.figure(figsize=(17,7))\n",
    "plt.subplot(1,2,1)\n",
    "sns.distplot(residual_train);\n",
    "plt.title('Traning Residual PDF');\n",
    "\n",
    "# ploting the distribution of the residual\n",
    "plt.subplot(1,2,2)\n",
    "sns.distplot(residual_test);\n",
    "plt.title('Testting Residual PDF');"
   ]
  },
  {
   "cell_type": "code",
   "execution_count": 18,
   "metadata": {},
   "outputs": [
    {
     "data": {
      "text/html": [
       "<div>\n",
       "<style scoped>\n",
       "    .dataframe tbody tr th:only-of-type {\n",
       "        vertical-align: middle;\n",
       "    }\n",
       "\n",
       "    .dataframe tbody tr th {\n",
       "        vertical-align: top;\n",
       "    }\n",
       "\n",
       "    .dataframe thead th {\n",
       "        text-align: right;\n",
       "    }\n",
       "</style>\n",
       "<table border=\"1\" class=\"dataframe\">\n",
       "  <thead>\n",
       "    <tr style=\"text-align: right;\">\n",
       "      <th></th>\n",
       "      <th>Prediction</th>\n",
       "      <th>Tareget</th>\n",
       "      <th>Residual</th>\n",
       "      <th>Difference%</th>\n",
       "    </tr>\n",
       "  </thead>\n",
       "  <tbody>\n",
       "    <tr>\n",
       "      <th>0</th>\n",
       "      <td>17443.940000</td>\n",
       "      <td>19000.0</td>\n",
       "      <td>1556.060000</td>\n",
       "      <td>8.189789</td>\n",
       "    </tr>\n",
       "    <tr>\n",
       "      <th>1</th>\n",
       "      <td>5867.160000</td>\n",
       "      <td>5500.0</td>\n",
       "      <td>-367.160000</td>\n",
       "      <td>6.675636</td>\n",
       "    </tr>\n",
       "    <tr>\n",
       "      <th>2</th>\n",
       "      <td>25450.058000</td>\n",
       "      <td>19200.0</td>\n",
       "      <td>-6250.058000</td>\n",
       "      <td>32.552385</td>\n",
       "    </tr>\n",
       "    <tr>\n",
       "      <th>3</th>\n",
       "      <td>12801.646667</td>\n",
       "      <td>11900.0</td>\n",
       "      <td>-901.646667</td>\n",
       "      <td>7.576863</td>\n",
       "    </tr>\n",
       "    <tr>\n",
       "      <th>4</th>\n",
       "      <td>8356.740000</td>\n",
       "      <td>7750.0</td>\n",
       "      <td>-606.740000</td>\n",
       "      <td>7.828903</td>\n",
       "    </tr>\n",
       "    <tr>\n",
       "      <th>...</th>\n",
       "      <td>...</td>\n",
       "      <td>...</td>\n",
       "      <td>...</td>\n",
       "      <td>...</td>\n",
       "    </tr>\n",
       "    <tr>\n",
       "      <th>769</th>\n",
       "      <td>103480.666667</td>\n",
       "      <td>116500.0</td>\n",
       "      <td>13019.333333</td>\n",
       "      <td>11.175393</td>\n",
       "    </tr>\n",
       "    <tr>\n",
       "      <th>770</th>\n",
       "      <td>10765.393333</td>\n",
       "      <td>13200.0</td>\n",
       "      <td>2434.606667</td>\n",
       "      <td>18.443990</td>\n",
       "    </tr>\n",
       "    <tr>\n",
       "      <th>771</th>\n",
       "      <td>28163.871429</td>\n",
       "      <td>27500.0</td>\n",
       "      <td>-663.871429</td>\n",
       "      <td>2.414078</td>\n",
       "    </tr>\n",
       "    <tr>\n",
       "      <th>772</th>\n",
       "      <td>15030.880000</td>\n",
       "      <td>16500.0</td>\n",
       "      <td>1469.120000</td>\n",
       "      <td>8.903758</td>\n",
       "    </tr>\n",
       "    <tr>\n",
       "      <th>773</th>\n",
       "      <td>11633.190000</td>\n",
       "      <td>11900.0</td>\n",
       "      <td>266.810000</td>\n",
       "      <td>2.242101</td>\n",
       "    </tr>\n",
       "  </tbody>\n",
       "</table>\n",
       "<p>774 rows × 4 columns</p>\n",
       "</div>"
      ],
      "text/plain": [
       "        Prediction   Tareget      Residual  Difference%\n",
       "0     17443.940000   19000.0   1556.060000     8.189789\n",
       "1      5867.160000    5500.0   -367.160000     6.675636\n",
       "2     25450.058000   19200.0  -6250.058000    32.552385\n",
       "3     12801.646667   11900.0   -901.646667     7.576863\n",
       "4      8356.740000    7750.0   -606.740000     7.828903\n",
       "..             ...       ...           ...          ...\n",
       "769  103480.666667  116500.0  13019.333333    11.175393\n",
       "770   10765.393333   13200.0   2434.606667    18.443990\n",
       "771   28163.871429   27500.0   -663.871429     2.414078\n",
       "772   15030.880000   16500.0   1469.120000     8.903758\n",
       "773   11633.190000   11900.0    266.810000     2.242101\n",
       "\n",
       "[774 rows x 4 columns]"
      ]
     },
     "execution_count": 18,
     "metadata": {},
     "output_type": "execute_result"
    }
   ],
   "source": [
    "# Creating a dataframe to compare the result and prediction.\n",
    "df_eval = pd.DataFrame(rf_1.predict(X_test), columns=['Prediction'])\n",
    "# adding column\n",
    "y_test = y_test.reset_index(drop=True)\n",
    "df_eval['Tareget'] = y_test\n",
    "\n",
    "# creating residual columns and difference column\n",
    "df_eval['Residual'] = df_eval['Tareget'] - df_eval['Prediction']\n",
    "df_eval['Difference%'] = np.absolute(df_eval['Residual'] / df_eval['Tareget']*100)\n",
    "# checking the performance data \n",
    "df_eval"
   ]
  },
  {
   "cell_type": "code",
   "execution_count": 19,
   "metadata": {},
   "outputs": [
    {
     "data": {
      "text/html": [
       "<div>\n",
       "<style scoped>\n",
       "    .dataframe tbody tr th:only-of-type {\n",
       "        vertical-align: middle;\n",
       "    }\n",
       "\n",
       "    .dataframe tbody tr th {\n",
       "        vertical-align: top;\n",
       "    }\n",
       "\n",
       "    .dataframe thead th {\n",
       "        text-align: right;\n",
       "    }\n",
       "</style>\n",
       "<table border=\"1\" class=\"dataframe\">\n",
       "  <thead>\n",
       "    <tr style=\"text-align: right;\">\n",
       "      <th></th>\n",
       "      <th>Prediction</th>\n",
       "      <th>Tareget</th>\n",
       "      <th>Residual</th>\n",
       "      <th>Difference%</th>\n",
       "    </tr>\n",
       "  </thead>\n",
       "  <tbody>\n",
       "    <tr>\n",
       "      <th>count</th>\n",
       "      <td>774.000000</td>\n",
       "      <td>774.000000</td>\n",
       "      <td>774.000000</td>\n",
       "      <td>774.000000</td>\n",
       "    </tr>\n",
       "    <tr>\n",
       "      <th>mean</th>\n",
       "      <td>18817.133032</td>\n",
       "      <td>18602.017829</td>\n",
       "      <td>-215.115203</td>\n",
       "      <td>17.389969</td>\n",
       "    </tr>\n",
       "    <tr>\n",
       "      <th>std</th>\n",
       "      <td>19450.329795</td>\n",
       "      <td>20139.559184</td>\n",
       "      <td>5195.452018</td>\n",
       "      <td>30.119848</td>\n",
       "    </tr>\n",
       "    <tr>\n",
       "      <th>min</th>\n",
       "      <td>1878.730000</td>\n",
       "      <td>1200.000000</td>\n",
       "      <td>-38986.102214</td>\n",
       "      <td>0.038580</td>\n",
       "    </tr>\n",
       "    <tr>\n",
       "      <th>25%</th>\n",
       "      <td>7822.140000</td>\n",
       "      <td>7500.000000</td>\n",
       "      <td>-1391.625000</td>\n",
       "      <td>4.300628</td>\n",
       "    </tr>\n",
       "    <tr>\n",
       "      <th>50%</th>\n",
       "      <td>11941.235000</td>\n",
       "      <td>11900.000000</td>\n",
       "      <td>-148.375000</td>\n",
       "      <td>9.844359</td>\n",
       "    </tr>\n",
       "    <tr>\n",
       "      <th>75%</th>\n",
       "      <td>21656.825000</td>\n",
       "      <td>20999.060000</td>\n",
       "      <td>1091.262500</td>\n",
       "      <td>20.798855</td>\n",
       "    </tr>\n",
       "    <tr>\n",
       "      <th>max</th>\n",
       "      <td>121925.000000</td>\n",
       "      <td>125000.000000</td>\n",
       "      <td>50389.470000</td>\n",
       "      <td>503.169512</td>\n",
       "    </tr>\n",
       "  </tbody>\n",
       "</table>\n",
       "</div>"
      ],
      "text/plain": [
       "          Prediction        Tareget      Residual  Difference%\n",
       "count     774.000000     774.000000    774.000000   774.000000\n",
       "mean    18817.133032   18602.017829   -215.115203    17.389969\n",
       "std     19450.329795   20139.559184   5195.452018    30.119848\n",
       "min      1878.730000    1200.000000 -38986.102214     0.038580\n",
       "25%      7822.140000    7500.000000  -1391.625000     4.300628\n",
       "50%     11941.235000   11900.000000   -148.375000     9.844359\n",
       "75%     21656.825000   20999.060000   1091.262500    20.798855\n",
       "max    121925.000000  125000.000000  50389.470000   503.169512"
      ]
     },
     "execution_count": 19,
     "metadata": {},
     "output_type": "execute_result"
    }
   ],
   "source": [
    "# description of the eval_df\n",
    "df_eval.describe()"
   ]
  },
  {
   "cell_type": "markdown",
   "metadata": {
    "id": "hyYKvI2wuKVJ"
   },
   "source": [
    "### Now I will tune the hyperparameter to make more generalize model."
   ]
  },
  {
   "cell_type": "code",
   "execution_count": 20,
   "metadata": {
    "id": "sPFgffOA3Xqv"
   },
   "outputs": [
    {
     "name": "stdout",
     "output_type": "stream",
     "text": [
      "Fitting 3 folds for each of 100 candidates, totalling 300 fits\n"
     ]
    },
    {
     "data": {
      "text/plain": [
       "RandomizedSearchCV(cv=3, estimator=RandomForestRegressor(), n_iter=100,\n",
       "                   n_jobs=-1,\n",
       "                   param_distributions={'bootstrap': [True, False],\n",
       "                                        'max_depth': [10, 20, 30, 40, 50, None],\n",
       "                                        'max_features': ['auto', 'sqrt'],\n",
       "                                        'min_samples_leaf': [1, 2, 4],\n",
       "                                        'min_samples_split': [2, 5, 7],\n",
       "                                        'n_estimators': [100, 200]},\n",
       "                   verbose=8)"
      ]
     },
     "execution_count": 20,
     "metadata": {},
     "output_type": "execute_result"
    }
   ],
   "source": [
    "# starting hyperparameter tuning\n",
    "\n",
    "# performing hyperparameter tuning with RandomizedSearchCV\n",
    "from sklearn.model_selection import RandomizedSearchCV\n",
    "\n",
    "# creating instance of RandomForest \n",
    "rf_random = RandomForestRegressor()\n",
    "\n",
    "# creating random parameter\n",
    "random_grid = {'bootstrap': [True, False],\n",
    " 'max_depth': [10, 20, 30, 40, 50, None], # maximum number of levels in each decision tree\n",
    " 'max_features': ['auto', 'sqrt'],\n",
    " 'min_samples_leaf': [1, 2, 4],\n",
    " 'min_samples_split': [2, 5, 7],\n",
    " 'n_estimators': [100,200]} # how many decision trees\n",
    "\n",
    "# create an instance of randomsearch csv\n",
    "rf_random = RandomizedSearchCV(estimator=rf_random,\n",
    "                               param_distributions=random_grid,\n",
    "                               n_iter=100,\n",
    "                               cv=3,\n",
    "                               verbose=8,\n",
    "                               n_jobs=-1)\n",
    "\n",
    "# starting the search\n",
    "rf_random.fit(X_train, y_train)"
   ]
  },
  {
   "cell_type": "code",
   "execution_count": 21,
   "metadata": {
    "colab": {
     "base_uri": "https://localhost:8080/"
    },
    "id": "rZZY7pSL8Kpb",
    "outputId": "aaadf028-6050-423e-ab83-66bf272e45cb"
   },
   "outputs": [
    {
     "data": {
      "text/plain": [
       "(RandomForestRegressor(bootstrap=False, max_depth=40, max_features='sqrt',\n",
       "                       n_estimators=200),\n",
       " {'n_estimators': 200,\n",
       "  'min_samples_split': 2,\n",
       "  'min_samples_leaf': 1,\n",
       "  'max_features': 'sqrt',\n",
       "  'max_depth': 40,\n",
       "  'bootstrap': False},\n",
       " 0.9269533193471274)"
      ]
     },
     "execution_count": 21,
     "metadata": {},
     "output_type": "execute_result"
    }
   ],
   "source": [
    "rf_random.best_estimator_, rf_random.best_params_, rf_random.best_score_"
   ]
  },
  {
   "cell_type": "code",
   "execution_count": 22,
   "metadata": {
    "colab": {
     "base_uri": "https://localhost:8080/"
    },
    "id": "1nX_sOjrA7OU",
    "outputId": "0db3861c-d8ee-4f54-c28c-8b67095e2dee"
   },
   "outputs": [
    {
     "data": {
      "text/plain": [
       "630.1724042035719"
      ]
     },
     "execution_count": 22,
     "metadata": {},
     "output_type": "execute_result"
    }
   ],
   "source": [
    "# checkig score of the randomly tune parameter\n",
    "# checkng traning error\n",
    "np.sqrt(mean_squared_error(y_train, rf_random.predict(X_train)))"
   ]
  },
  {
   "cell_type": "code",
   "execution_count": 23,
   "metadata": {
    "colab": {
     "base_uri": "https://localhost:8080/"
    },
    "id": "iWtlf_ZwBPAq",
    "outputId": "b9e8e145-aa68-4f74-9475-e75b6fa1d5f8"
   },
   "outputs": [
    {
     "data": {
      "text/plain": [
       "4142.809940499074"
      ]
     },
     "execution_count": 23,
     "metadata": {},
     "output_type": "execute_result"
    }
   ],
   "source": [
    "# checking the testing error\n",
    "np.sqrt(mean_squared_error(y_test, rf_random.predict(X_test)))"
   ]
  },
  {
   "cell_type": "markdown",
   "metadata": {
    "id": "JDqY1FjJB39Q"
   },
   "source": [
    "Looks like the model is still on overfit. It make traning error is `630` and testing error `4177`.\n",
    "\n",
    "Now I will try with `GridSearchCV`"
   ]
  },
  {
   "cell_type": "code",
   "execution_count": 38,
   "metadata": {
    "colab": {
     "base_uri": "https://localhost:8080/"
    },
    "id": "nTihgfC1BY4a",
    "outputId": "5d24fccc-7512-45c4-fb0b-7e281778c526"
   },
   "outputs": [
    {
     "name": "stdout",
     "output_type": "stream",
     "text": [
      "Fitting 3 folds for each of 54 candidates, totalling 162 fits\n"
     ]
    },
    {
     "data": {
      "text/plain": [
       "GridSearchCV(cv=3, estimator=RandomForestRegressor(), n_jobs=-1,\n",
       "             param_grid={'bootstrap': [False], 'max_depth': [25, 30, 35],\n",
       "                         'max_features': ['sqrt'], 'min_samples_leaf': [1, 2],\n",
       "                         'min_samples_split': [1, 2, 3],\n",
       "                         'n_estimators': [100, 150, 200]},\n",
       "             verbose=8)"
      ]
     },
     "execution_count": 38,
     "metadata": {},
     "output_type": "execute_result"
    }
   ],
   "source": [
    "# importing gridseach cv\n",
    "from sklearn.model_selection import GridSearchCV\n",
    "\n",
    "# create an instance of new model\n",
    "rf_grid_model = RandomForestRegressor()\n",
    "\n",
    "\n",
    "param_grid =  {'bootstrap': [False],\n",
    "  'max_depth': [25,30,35],\n",
    "  'max_features': ['sqrt'],\n",
    "  'min_samples_leaf': [1,2],\n",
    "  'min_samples_split': [1,2,3],\n",
    "  'n_estimators': [100,150,200]}\n",
    "\n",
    "\n",
    "# searchin for best paramete from neighbour of random search cv parameter\n",
    "rf_grid = GridSearchCV(estimator=rf_grid_model,\n",
    "                       param_grid=param_grid,\n",
    "                       cv=3,\n",
    "                       n_jobs=-1,\n",
    "                       verbose=8)\n",
    "\n",
    "\n",
    "# fitting on data\n",
    "rf_grid.fit(X_train, y_train)"
   ]
  },
  {
   "cell_type": "code",
   "execution_count": 39,
   "metadata": {
    "colab": {
     "base_uri": "https://localhost:8080/"
    },
    "id": "cuGX730aDUX4",
    "outputId": "3058d61a-39b8-48b1-9ed1-152b6bbbd593"
   },
   "outputs": [
    {
     "data": {
      "text/plain": [
       "(RandomForestRegressor(bootstrap=False, max_depth=30, max_features='sqrt',\n",
       "                       min_samples_split=3, n_estimators=200),\n",
       " {'bootstrap': False,\n",
       "  'max_depth': 30,\n",
       "  'max_features': 'sqrt',\n",
       "  'min_samples_leaf': 1,\n",
       "  'min_samples_split': 3,\n",
       "  'n_estimators': 200},\n",
       " 0.929378294344502)"
      ]
     },
     "execution_count": 39,
     "metadata": {},
     "output_type": "execute_result"
    }
   ],
   "source": [
    "rf_grid.best_estimator_, rf_grid.best_params_, rf_grid.best_score_"
   ]
  },
  {
   "cell_type": "code",
   "execution_count": 40,
   "metadata": {
    "colab": {
     "base_uri": "https://localhost:8080/"
    },
    "id": "OtwEUMYGFqbJ",
    "outputId": "e44af7ff-6695-4606-bef3-536d08ddca5d"
   },
   "outputs": [
    {
     "data": {
      "text/plain": [
       "976.9463307294566"
      ]
     },
     "execution_count": 40,
     "metadata": {},
     "output_type": "execute_result"
    }
   ],
   "source": [
    "# checkig score of the randomly tune parameter\n",
    "# checkng traning error\n",
    "np.sqrt(mean_squared_error(y_train, rf_grid.predict(X_train)))"
   ]
  },
  {
   "cell_type": "code",
   "execution_count": 41,
   "metadata": {
    "colab": {
     "base_uri": "https://localhost:8080/"
    },
    "id": "sZC5Wb-cF3BK",
    "outputId": "67ed6fec-8dd9-445b-e33d-571263121fc6"
   },
   "outputs": [
    {
     "data": {
      "text/plain": [
       "4142.809940499074"
      ]
     },
     "execution_count": 41,
     "metadata": {},
     "output_type": "execute_result"
    }
   ],
   "source": [
    "# checking the testing error\n",
    "np.sqrt(mean_squared_error(y_test, rf_random.predict(X_test)))"
   ]
  },
  {
   "cell_type": "markdown",
   "metadata": {
    "id": "Fax3MpRvF46y"
   },
   "source": [
    "Looks like the problem arise on the total no of Decision tree on the internal model. The `n_estimators` hypaer parametr is want ot decrease to lowereing the variance.\n",
    "\n",
    "As i notice the all parametr works great but lower the `n_estimators`. The traning error is increased. So here i need to increase liitle bit traning error for lowering the variance."
   ]
  },
  {
   "cell_type": "markdown",
   "metadata": {
    "id": "Bxj0jRPjGlFk"
   },
   "source": [
    "#### Again i will try GridSearchCV for find the best model"
   ]
  },
  {
   "cell_type": "code",
   "execution_count": 42,
   "metadata": {
    "colab": {
     "base_uri": "https://localhost:8080/"
    },
    "id": "_Bv3Aug8F3aq",
    "outputId": "796f82e5-419f-4be0-ebed-e198f0b21266"
   },
   "outputs": [
    {
     "name": "stdout",
     "output_type": "stream",
     "text": [
      "Fitting 3 folds for each of 27 candidates, totalling 81 fits\n"
     ]
    },
    {
     "data": {
      "text/plain": [
       "GridSearchCV(cv=3, estimator=RandomForestRegressor(), n_jobs=-1,\n",
       "             param_grid={'bootstrap': [False], 'max_depth': [28, 30, 32],\n",
       "                         'max_features': ['sqrt'], 'min_samples_leaf': [1],\n",
       "                         'min_samples_split': [2, 3, 4],\n",
       "                         'n_estimators': [50, 80, 100]},\n",
       "             verbose=8)"
      ]
     },
     "execution_count": 42,
     "metadata": {},
     "output_type": "execute_result"
    }
   ],
   "source": [
    "# create an instance of new model\n",
    "rf_grid_model_2 = RandomForestRegressor()\n",
    "\n",
    "\n",
    "param_grid_2 =  {'bootstrap': [False],\n",
    "  'max_depth': [28,30,32],\n",
    "  'max_features': ['sqrt'],\n",
    "  'min_samples_leaf': [1],\n",
    "  'min_samples_split': [2,3,4],\n",
    "  'n_estimators': [50,80,100]}\n",
    "\n",
    "\n",
    "# searchin for best paramete from neighbour of random search cv parameter\n",
    "rf_grid_2 = GridSearchCV(estimator=rf_grid_model_2,\n",
    "                       param_grid=param_grid_2,\n",
    "                       cv=3,\n",
    "                       n_jobs=-1,\n",
    "                       verbose=8)\n",
    "\n",
    "\n",
    "# fitting on data\n",
    "rf_grid_2.fit(X_train, y_train)"
   ]
  },
  {
   "cell_type": "code",
   "execution_count": 43,
   "metadata": {
    "colab": {
     "base_uri": "https://localhost:8080/"
    },
    "id": "p7FeqU5SIvog",
    "outputId": "223922b3-7b07-4d41-caa5-3c6d238c1cfb"
   },
   "outputs": [
    {
     "data": {
      "text/plain": [
       "(RandomForestRegressor(bootstrap=False, max_depth=30, max_features='sqrt',\n",
       "                       min_samples_split=3, n_estimators=50),\n",
       " {'bootstrap': False,\n",
       "  'max_depth': 30,\n",
       "  'max_features': 'sqrt',\n",
       "  'min_samples_leaf': 1,\n",
       "  'min_samples_split': 3,\n",
       "  'n_estimators': 50},\n",
       " 0.9279203541612119)"
      ]
     },
     "execution_count": 43,
     "metadata": {},
     "output_type": "execute_result"
    }
   ],
   "source": [
    "rf_grid_2.best_estimator_, rf_grid_2.best_params_, rf_grid_2.best_score_"
   ]
  },
  {
   "cell_type": "code",
   "execution_count": 44,
   "metadata": {
    "colab": {
     "base_uri": "https://localhost:8080/"
    },
    "id": "jDqsWsGJI09v",
    "outputId": "d9ae5ea2-d60c-46e7-83ac-52eb0075486a"
   },
   "outputs": [
    {
     "data": {
      "text/plain": [
       "1016.4042316049434"
      ]
     },
     "execution_count": 44,
     "metadata": {},
     "output_type": "execute_result"
    }
   ],
   "source": [
    "# Checking traning error.\n",
    "np.sqrt(mean_squared_error(y_train, rf_grid_2.predict(X_train)))"
   ]
  },
  {
   "cell_type": "code",
   "execution_count": 45,
   "metadata": {
    "colab": {
     "base_uri": "https://localhost:8080/"
    },
    "id": "iOGuX-isI9o_",
    "outputId": "42b86fa1-3580-40a0-ba53-31b1fd50a79e"
   },
   "outputs": [
    {
     "data": {
      "text/plain": [
       "4270.96004844675"
      ]
     },
     "execution_count": 45,
     "metadata": {},
     "output_type": "execute_result"
    }
   ],
   "source": [
    "# checking testing error\n",
    "np.sqrt(mean_squared_error(y_test, rf_grid_2.predict(X_test)))"
   ]
  },
  {
   "cell_type": "markdown",
   "metadata": {
    "id": "QJ5dP8WhJFEP"
   },
   "source": [
    "#### Now this model can be used, although this not that much generalize error, there is lot difference in traning error and testing error. now i will go detail evalute process with this model `rf_grid_2`"
   ]
  },
  {
   "cell_type": "code",
   "execution_count": 46,
   "metadata": {
    "colab": {
     "base_uri": "https://localhost:8080/",
     "height": 464
    },
    "id": "vQ3DVGYQJliX",
    "outputId": "b0de8e56-bacf-4c6c-9db3-9c005137b53e"
   },
   "outputs": [
    {
     "data": {
      "image/png": "[encoded data removed]",
      "text/plain": [
       "<Figure size 1224x504 with 2 Axes>"
      ]
     },
     "metadata": {},
     "output_type": "display_data"
    }
   ],
   "source": [
    "# plotting the traning\n",
    "# check the prediction with the original values\n",
    "plt.figure(figsize=(17,7))\n",
    "y_pred_train = rf_grid_2.predict(X_train)\n",
    "plt.subplot(1,2,1)\n",
    "plt.scatter(y_train, y_pred_train, alpha=0.2);\n",
    "plt.xlabel('Targets (y_train)');\n",
    "plt.ylabel('Predictions (y_pred)');\n",
    "plt.title('Traning Time');\n",
    "\n",
    "# plotting testing error\n",
    "y_pred_test = rf_grid_2.predict(X_test)\n",
    "plt.subplot(1,2,2)\n",
    "plt.scatter(y_test, y_pred_test, alpha=0.2);\n",
    "plt.xlabel('Targets (y_test)');\n",
    "plt.ylabel('Predictions (y_pred_train)');\n",
    "plt.title('Testing Time');\n"
   ]
  },
  {
   "cell_type": "markdown",
   "metadata": {
    "id": "ND88pe7DKOoh"
   },
   "source": [
    "The traning error is very  lesss"
   ]
  },
  {
   "cell_type": "code",
   "execution_count": 47,
   "metadata": {
    "id": "MDsYsYo2KC3h"
   },
   "outputs": [
    {
     "name": "stdout",
     "output_type": "stream",
     "text": [
      "Traning r2_score: 0.9970807802287043\n",
      "Testing r2_score: 0.9549688991813553\n"
     ]
    }
   ],
   "source": [
    "# checking the score of the last model\n",
    "from sklearn.metrics import r2_score\n",
    "\n",
    "print(f'Traning r2_score: {r2_score(y_train, rf_grid_2.predict(X_train))}')\n",
    "print(f'Testing r2_score: {r2_score(y_test, rf_grid_2.predict(X_test))}')"
   ]
  },
  {
   "cell_type": "markdown",
   "metadata": {
    "id": "0kgNdYiRKvFZ"
   },
   "source": [
    "Not that much bad model i have created, But `RandomForest` outperform from `LinearRegression`"
   ]
  },
  {
   "cell_type": "markdown",
   "metadata": {
    "id": "LjX63CS9LDtS"
   },
   "source": [
    "# Now checking the residual"
   ]
  },
  {
   "cell_type": "code",
   "execution_count": 48,
   "metadata": {
    "colab": {
     "base_uri": "https://localhost:8080/",
     "height": 464
    },
    "id": "0VZ05XOvKYQK",
    "outputId": "c0814f8a-7dd4-4f8f-cb3b-792add420b04"
   },
   "outputs": [
    {
     "data": {
      "image/png": "[encoded data removed]",
      "text/plain": [
       "<Figure size 1224x504 with 2 Axes>"
      ]
     },
     "metadata": {},
     "output_type": "display_data"
    }
   ],
   "source": [
    "# plotting the distribution of the residual\n",
    "residual_train = (y_train - rf_grid_2.predict(X_train))\n",
    "residual_test = (y_test - rf_grid_2.predict(X_test))\n",
    "\n",
    "# ploting the distribution of the residual on training\n",
    "plt.figure(figsize=(17,7))\n",
    "plt.subplot(1,2,1)\n",
    "sns.distplot(residual_train);\n",
    "plt.title('Traning Residual PDF');\n",
    "\n",
    "# ploting the distribution of the residual\n",
    "plt.subplot(1,2,2)\n",
    "sns.distplot(residual_test);\n",
    "plt.title('Testting Residual PDF');"
   ]
  },
  {
   "cell_type": "markdown",
   "metadata": {
    "id": "Z-Iy-YX-Mhx2"
   },
   "source": [
    "Not that much Bad, and far better than `Linear Regression`.\n",
    "\n",
    "Most of the data are lie on `0`, it meas most of the cases it makes right decision."
   ]
  },
  {
   "cell_type": "markdown",
   "metadata": {
    "id": "eQn-Nf7DM48G"
   },
   "source": [
    "Creating df_eval like `Linear Regression`"
   ]
  },
  {
   "cell_type": "code",
   "execution_count": 49,
   "metadata": {
    "colab": {
     "base_uri": "https://localhost:8080/",
     "height": 417
    },
    "id": "TW2Vf7HQMfjH",
    "outputId": "ae672051-5ff8-48d0-bf9c-1c07174d4ba0"
   },
   "outputs": [
    {
     "data": {
      "text/html": [
       "<div>\n",
       "<style scoped>\n",
       "    .dataframe tbody tr th:only-of-type {\n",
       "        vertical-align: middle;\n",
       "    }\n",
       "\n",
       "    .dataframe tbody tr th {\n",
       "        vertical-align: top;\n",
       "    }\n",
       "\n",
       "    .dataframe thead th {\n",
       "        text-align: right;\n",
       "    }\n",
       "</style>\n",
       "<table border=\"1\" class=\"dataframe\">\n",
       "  <thead>\n",
       "    <tr style=\"text-align: right;\">\n",
       "      <th></th>\n",
       "      <th>Prediction</th>\n",
       "      <th>Tareget</th>\n",
       "      <th>Residual</th>\n",
       "      <th>Difference%</th>\n",
       "    </tr>\n",
       "  </thead>\n",
       "  <tbody>\n",
       "    <tr>\n",
       "      <th>0</th>\n",
       "      <td>17021.679400</td>\n",
       "      <td>19000.0</td>\n",
       "      <td>1978.320600</td>\n",
       "      <td>10.412214</td>\n",
       "    </tr>\n",
       "    <tr>\n",
       "      <th>1</th>\n",
       "      <td>5243.310000</td>\n",
       "      <td>5500.0</td>\n",
       "      <td>256.690000</td>\n",
       "      <td>4.667091</td>\n",
       "    </tr>\n",
       "    <tr>\n",
       "      <th>2</th>\n",
       "      <td>23461.320000</td>\n",
       "      <td>19200.0</td>\n",
       "      <td>-4261.320000</td>\n",
       "      <td>22.194375</td>\n",
       "    </tr>\n",
       "    <tr>\n",
       "      <th>3</th>\n",
       "      <td>12101.350000</td>\n",
       "      <td>11900.0</td>\n",
       "      <td>-201.350000</td>\n",
       "      <td>1.692017</td>\n",
       "    </tr>\n",
       "    <tr>\n",
       "      <th>4</th>\n",
       "      <td>7759.940000</td>\n",
       "      <td>7750.0</td>\n",
       "      <td>-9.940000</td>\n",
       "      <td>0.128258</td>\n",
       "    </tr>\n",
       "    <tr>\n",
       "      <th>...</th>\n",
       "      <td>...</td>\n",
       "      <td>...</td>\n",
       "      <td>...</td>\n",
       "      <td>...</td>\n",
       "    </tr>\n",
       "    <tr>\n",
       "      <th>769</th>\n",
       "      <td>113782.980000</td>\n",
       "      <td>116500.0</td>\n",
       "      <td>2717.020000</td>\n",
       "      <td>2.332206</td>\n",
       "    </tr>\n",
       "    <tr>\n",
       "      <th>770</th>\n",
       "      <td>11375.790000</td>\n",
       "      <td>13200.0</td>\n",
       "      <td>1824.210000</td>\n",
       "      <td>13.819773</td>\n",
       "    </tr>\n",
       "    <tr>\n",
       "      <th>771</th>\n",
       "      <td>28266.666667</td>\n",
       "      <td>27500.0</td>\n",
       "      <td>-766.666667</td>\n",
       "      <td>2.787879</td>\n",
       "    </tr>\n",
       "    <tr>\n",
       "      <th>772</th>\n",
       "      <td>13563.340000</td>\n",
       "      <td>16500.0</td>\n",
       "      <td>2936.660000</td>\n",
       "      <td>17.797939</td>\n",
       "    </tr>\n",
       "    <tr>\n",
       "      <th>773</th>\n",
       "      <td>12382.900000</td>\n",
       "      <td>11900.0</td>\n",
       "      <td>-482.900000</td>\n",
       "      <td>4.057983</td>\n",
       "    </tr>\n",
       "  </tbody>\n",
       "</table>\n",
       "<p>774 rows × 4 columns</p>\n",
       "</div>"
      ],
      "text/plain": [
       "        Prediction   Tareget     Residual  Difference%\n",
       "0     17021.679400   19000.0  1978.320600    10.412214\n",
       "1      5243.310000    5500.0   256.690000     4.667091\n",
       "2     23461.320000   19200.0 -4261.320000    22.194375\n",
       "3     12101.350000   11900.0  -201.350000     1.692017\n",
       "4      7759.940000    7750.0    -9.940000     0.128258\n",
       "..             ...       ...          ...          ...\n",
       "769  113782.980000  116500.0  2717.020000     2.332206\n",
       "770   11375.790000   13200.0  1824.210000    13.819773\n",
       "771   28266.666667   27500.0  -766.666667     2.787879\n",
       "772   13563.340000   16500.0  2936.660000    17.797939\n",
       "773   12382.900000   11900.0  -482.900000     4.057983\n",
       "\n",
       "[774 rows x 4 columns]"
      ]
     },
     "execution_count": 49,
     "metadata": {},
     "output_type": "execute_result"
    }
   ],
   "source": [
    "# Creating a dataframe to compare the result and prediction.\n",
    "df_eval = pd.DataFrame(rf_grid_2.predict(X_test), columns=['Prediction'])\n",
    "# adding column\n",
    "y_test = y_test.reset_index(drop=True)\n",
    "df_eval['Tareget'] = y_test\n",
    "\n",
    "# creating residual columns and difference column\n",
    "df_eval['Residual'] = df_eval['Tareget'] - df_eval['Prediction']\n",
    "df_eval['Difference%'] = np.absolute(df_eval['Residual'] / df_eval['Tareget']*100)\n",
    "# checking the performance data \n",
    "df_eval"
   ]
  },
  {
   "cell_type": "code",
   "execution_count": 50,
   "metadata": {
    "colab": {
     "base_uri": "https://localhost:8080/",
     "height": 295
    },
    "id": "83TQ07vgNPdf",
    "outputId": "7f84869d-408c-4331-a267-89d269ad9189"
   },
   "outputs": [
    {
     "data": {
      "text/html": [
       "<div>\n",
       "<style scoped>\n",
       "    .dataframe tbody tr th:only-of-type {\n",
       "        vertical-align: middle;\n",
       "    }\n",
       "\n",
       "    .dataframe tbody tr th {\n",
       "        vertical-align: top;\n",
       "    }\n",
       "\n",
       "    .dataframe thead th {\n",
       "        text-align: right;\n",
       "    }\n",
       "</style>\n",
       "<table border=\"1\" class=\"dataframe\">\n",
       "  <thead>\n",
       "    <tr style=\"text-align: right;\">\n",
       "      <th></th>\n",
       "      <th>Prediction</th>\n",
       "      <th>Tareget</th>\n",
       "      <th>Residual</th>\n",
       "      <th>Difference%</th>\n",
       "    </tr>\n",
       "  </thead>\n",
       "  <tbody>\n",
       "    <tr>\n",
       "      <th>count</th>\n",
       "      <td>774.000000</td>\n",
       "      <td>774.000000</td>\n",
       "      <td>774.000000</td>\n",
       "      <td>774.000000</td>\n",
       "    </tr>\n",
       "    <tr>\n",
       "      <th>mean</th>\n",
       "      <td>18710.752690</td>\n",
       "      <td>18602.017829</td>\n",
       "      <td>-108.734860</td>\n",
       "      <td>18.079441</td>\n",
       "    </tr>\n",
       "    <tr>\n",
       "      <th>std</th>\n",
       "      <td>19384.572325</td>\n",
       "      <td>20139.559184</td>\n",
       "      <td>4272.336477</td>\n",
       "      <td>41.469815</td>\n",
       "    </tr>\n",
       "    <tr>\n",
       "      <th>min</th>\n",
       "      <td>1792.940000</td>\n",
       "      <td>1200.000000</td>\n",
       "      <td>-27623.840000</td>\n",
       "      <td>0.000000</td>\n",
       "    </tr>\n",
       "    <tr>\n",
       "      <th>25%</th>\n",
       "      <td>7915.875000</td>\n",
       "      <td>7500.000000</td>\n",
       "      <td>-1446.140000</td>\n",
       "      <td>4.511857</td>\n",
       "    </tr>\n",
       "    <tr>\n",
       "      <th>50%</th>\n",
       "      <td>12102.785000</td>\n",
       "      <td>11900.000000</td>\n",
       "      <td>-202.425000</td>\n",
       "      <td>10.585559</td>\n",
       "    </tr>\n",
       "    <tr>\n",
       "      <th>75%</th>\n",
       "      <td>21557.750000</td>\n",
       "      <td>20999.060000</td>\n",
       "      <td>1054.375000</td>\n",
       "      <td>19.794701</td>\n",
       "    </tr>\n",
       "    <tr>\n",
       "      <th>max</th>\n",
       "      <td>125400.000000</td>\n",
       "      <td>125000.000000</td>\n",
       "      <td>47408.070000</td>\n",
       "      <td>730.547083</td>\n",
       "    </tr>\n",
       "  </tbody>\n",
       "</table>\n",
       "</div>"
      ],
      "text/plain": [
       "          Prediction        Tareget      Residual  Difference%\n",
       "count     774.000000     774.000000    774.000000   774.000000\n",
       "mean    18710.752690   18602.017829   -108.734860    18.079441\n",
       "std     19384.572325   20139.559184   4272.336477    41.469815\n",
       "min      1792.940000    1200.000000 -27623.840000     0.000000\n",
       "25%      7915.875000    7500.000000  -1446.140000     4.511857\n",
       "50%     12102.785000   11900.000000   -202.425000    10.585559\n",
       "75%     21557.750000   20999.060000   1054.375000    19.794701\n",
       "max    125400.000000  125000.000000  47408.070000   730.547083"
      ]
     },
     "execution_count": 50,
     "metadata": {},
     "output_type": "execute_result"
    }
   ],
   "source": [
    "df_eval.describe()"
   ]
  },
  {
   "cell_type": "markdown",
   "metadata": {
    "id": "t2Op8T_bNys3"
   },
   "source": [
    "The `Difference%` column is only interest, the differenc is far better than `Linear Regression`"
   ]
  },
  {
   "cell_type": "markdown",
   "metadata": {},
   "source": [
    "### The above model is overfit , choose to use the first base model."
   ]
  },
  {
   "cell_type": "code",
   "execution_count": 51,
   "metadata": {},
   "outputs": [
    {
     "data": {
      "text/plain": [
       "['rf1_base_rf.pkl']"
      ]
     },
     "execution_count": 51,
     "metadata": {},
     "output_type": "execute_result"
    }
   ],
   "source": [
    "import joblib\n",
    "\n",
    "# saving the first base model.\n",
    "joblib.dump(rf_1, 'rf1_base_rf.pkl', compress=3)"
   ]
  },
  {
   "cell_type": "code",
   "execution_count": null,
   "metadata": {},
   "outputs": [],
   "source": []
  },
  {
   "cell_type": "code",
   "execution_count": null,
   "metadata": {},
   "outputs": [],
   "source": []
  }
 ],
 "metadata": {
  "colab": {
   "collapsed_sections": [],
   "name": "Random Forest 2 with model column_4241_test_error.ipynb",
   "provenance": []
  },
  "kernelspec": {
   "display_name": "Python 3 (ipykernel)",
   "language": "python",
   "name": "python3"
  },
  "language_info": {
   "codemirror_mode": {
    "name": "ipython",
    "version": 3
   },
   "file_extension": ".py",
   "mimetype": "text/x-python",
   "name": "python",
   "nbconvert_exporter": "python",
   "pygments_lexer": "ipython3",
   "version": "3.9.7"
  }
 },
 "nbformat": 4,
 "nbformat_minor": 1
}
